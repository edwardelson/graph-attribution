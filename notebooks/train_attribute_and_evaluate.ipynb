{
 "cells": [
  {
   "cell_type": "code",
   "execution_count": 1,
   "metadata": {
    "ExecuteTime": {
     "end_time": "2020-11-19T19:50:12.516753Z",
     "start_time": "2020-11-19T19:50:12.497088Z"
    }
   },
   "outputs": [],
   "source": [
    "%load_ext autoreload\n",
    "%autoreload 2"
   ]
  },
  {
   "cell_type": "code",
   "execution_count": 2,
   "metadata": {
    "ExecuteTime": {
     "end_time": "2020-11-19T19:50:15.369290Z",
     "start_time": "2020-11-19T19:50:15.340458Z"
    }
   },
   "outputs": [],
   "source": [
    "import sys\n",
    "sys.path.append('..')"
   ]
  },
  {
   "cell_type": "code",
   "execution_count": 3,
   "metadata": {
    "ExecuteTime": {
     "end_time": "2020-11-19T19:50:15.593050Z",
     "start_time": "2020-11-19T19:50:15.572136Z"
    }
   },
   "outputs": [],
   "source": [
    "import sys\n",
    "\n",
    "IN_COLAB = 'google.colab' in sys.modules\n",
    "REPO_DIR = '..' if IN_COLAB  else '..'"
   ]
  },
  {
   "cell_type": "markdown",
   "metadata": {
    "colab_type": "text",
    "id": "OD_uoUHdGp5t"
   },
   "source": [
    "# Code"
   ]
  },
  {
   "cell_type": "code",
   "execution_count": 4,
   "metadata": {
    "ExecuteTime": {
     "end_time": "2020-11-19T20:01:09.511494Z",
     "start_time": "2020-11-19T20:01:09.431182Z"
    },
    "cellView": "both",
    "colab": {},
    "colab_type": "code",
    "id": "8moWllwb-yZr"
   },
   "outputs": [
    {
     "ename": "ModuleNotFoundError",
     "evalue": "No module named 'graph_nets'",
     "output_type": "error",
     "traceback": [
      "\u001b[1;31m---------------------------------------------------------------------------\u001b[0m",
      "\u001b[1;31mModuleNotFoundError\u001b[0m                       Traceback (most recent call last)",
      "\u001b[1;32m<ipython-input-4-f458396048ab>\u001b[0m in \u001b[0;36m<module>\u001b[1;34m\u001b[0m\n\u001b[0;32m     13\u001b[0m \u001b[1;32mimport\u001b[0m \u001b[0mtensorflow\u001b[0m \u001b[1;32mas\u001b[0m \u001b[0mtf\u001b[0m\u001b[1;33m\u001b[0m\u001b[1;33m\u001b[0m\u001b[0m\n\u001b[0;32m     14\u001b[0m \u001b[1;32mimport\u001b[0m \u001b[0msonnet\u001b[0m \u001b[1;32mas\u001b[0m \u001b[0msnt\u001b[0m\u001b[1;33m\u001b[0m\u001b[1;33m\u001b[0m\u001b[0m\n\u001b[1;32m---> 15\u001b[1;33m \u001b[1;32mimport\u001b[0m \u001b[0mgraph_nets\u001b[0m\u001b[1;33m\u001b[0m\u001b[1;33m\u001b[0m\u001b[0m\n\u001b[0m\u001b[0;32m     16\u001b[0m \u001b[1;32mfrom\u001b[0m \u001b[0mgraph_nets\u001b[0m\u001b[1;33m.\u001b[0m\u001b[0mgraphs\u001b[0m \u001b[1;32mimport\u001b[0m \u001b[0mGraphsTuple\u001b[0m\u001b[1;33m\u001b[0m\u001b[1;33m\u001b[0m\u001b[0m\n\u001b[0;32m     17\u001b[0m \u001b[1;32mimport\u001b[0m \u001b[0mgraph_attribution\u001b[0m \u001b[1;32mas\u001b[0m \u001b[0mgatt\u001b[0m\u001b[1;33m\u001b[0m\u001b[1;33m\u001b[0m\u001b[0m\n",
      "\u001b[1;31mModuleNotFoundError\u001b[0m: No module named 'graph_nets'"
     ]
    }
   ],
   "source": [
    "import os\n",
    "import itertools\n",
    "import collections\n",
    "import tqdm.auto as tqdm\n",
    "\n",
    "from IPython.display import display\n",
    "\n",
    "import numpy as np\n",
    "import matplotlib.pyplot as plt\n",
    "import pandas as pd\n",
    "import seaborn as sns\n",
    "\n",
    "import tensorflow as tf\n",
    "import sonnet as snt\n",
    "import graph_nets\n",
    "from graph_nets.graphs import GraphsTuple\n",
    "import graph_attribution as gatt\n",
    "\n",
    "# Ignore tf/graph_nets UserWarning:\n",
    "# Converting sparse IndexedSlices to a dense Tensor of unknown shape\n",
    "import warnings\n",
    "warnings.simplefilter(\"ignore\", UserWarning)\n",
    "\n",
    "for mod in [tf, snt, gatt]:\n",
    "    print(f'{mod.__name__:20s} = {mod.__version__}')"
   ]
  },
  {
   "cell_type": "markdown",
   "metadata": {
    "colab_type": "text",
    "id": "EAwhhlmhUWHH"
   },
   "source": [
    "## Graph Attribution specific imports"
   ]
  },
  {
   "cell_type": "code",
   "execution_count": null,
   "metadata": {
    "ExecuteTime": {
     "end_time": "2020-11-19T19:58:14.416163Z",
     "start_time": "2020-11-19T19:58:14.337198Z"
    }
   },
   "outputs": [],
   "source": [
    "from graph_attribution import tasks\n",
    "from graph_attribution import graphnet_models as gnn_models\n",
    "from graph_attribution import graphnet_techniques as techniques\n",
    "from graph_attribution import datasets\n",
    "from graph_attribution import experiments\n",
    "from graph_attribution import templates\n",
    "from graph_attribution import graphs as graph_utils\n",
    "\n",
    "datasets.DATA_DIR = os.path.join(REPO_DIR, 'data')\n",
    "print(f'Reading data from: {datasets.DATA_DIR}')"
   ]
  },
  {
   "cell_type": "markdown",
   "metadata": {
    "colab_type": "text",
    "id": "j-1hgin_htxk"
   },
   "source": [
    "# Load Experiment data, a task and attribution techniques"
   ]
  },
  {
   "cell_type": "code",
   "execution_count": null,
   "metadata": {
    "ExecuteTime": {
     "end_time": "2020-11-19T19:58:18.979633Z",
     "start_time": "2020-11-19T19:58:18.895459Z"
    },
    "colab": {},
    "colab_type": "code",
    "id": "83FuJCHIPy9B"
   },
   "outputs": [],
   "source": [
    "print(f'Available tasks: {[t.name for t in tasks.Task]}')\n",
    "print(f'Available model types: {[m.name for m in gnn_models.BlockType]}')\n",
    "print(f'Available ATT techniques: {list(techniques.get_techniques_dict(None,None).keys())}')"
   ]
  },
  {
   "cell_type": "code",
   "execution_count": 45,
   "metadata": {
    "ExecuteTime": {
     "end_time": "2020-11-19T19:58:20.566788Z",
     "start_time": "2020-11-19T19:58:19.250832Z"
    },
    "colab": {},
    "colab_type": "code",
    "id": "uALixzYcevP4"
   },
   "outputs": [
    {
     "name": "stdout",
     "output_type": "stream",
     "text": [
      "Shapes of GraphsTuple's fields:\n",
      "GraphsTuple(nodes=TensorShape([81088, 14]), edges=TensorShape([172570, 5]), receivers=TensorShape([172570]), senders=TensorShape([172570]), globals=TensorShape([3840, 1]), n_node=TensorShape([3840]), n_edge=TensorShape([3840]))\n",
      "Experiment data fields:['x_train', 'x_test', 'y_train', 'y_test', 'att_test', 'x_aug', 'y_aug']\n"
     ]
    }
   ],
   "source": [
    "task_type = 'logic7'\n",
    "block_type = 'gcn'\n",
    "\n",
    "task_dir = datasets.get_task_dir(task_type)\n",
    "exp, task, methods = experiments.get_experiment_setup(task_type, block_type)\n",
    "task_act, task_loss = task.get_nn_activation_fn(), task.get_nn_loss_fn()\n",
    "graph_utils.print_graphs_tuple(exp.x_train)\n",
    "print(f'Experiment data fields:{list(exp.__dict__.keys())}')"
   ]
  },
  {
   "cell_type": "markdown",
   "metadata": {
    "colab_type": "text",
    "id": "oa5pg38yukMU"
   },
   "source": [
    "# Create a GNN model\n",
    "\n",
    "## Define hparams of the experiment"
   ]
  },
  {
   "cell_type": "code",
   "execution_count": 46,
   "metadata": {
    "ExecuteTime": {
     "end_time": "2020-11-19T19:58:20.635213Z",
     "start_time": "2020-11-19T19:58:20.568997Z"
    },
    "colab": {},
    "colab_type": "code",
    "id": "zYKgsgksQ6T6"
   },
   "outputs": [
    {
     "data": {
      "text/plain": [
       "batch_size: 256\n",
       "block_type: gcn\n",
       "edge_size: 20\n",
       "epochs: 300\n",
       "global_size: 100\n",
       "learning_rate: 0.0003\n",
       "n_layers: 3\n",
       "node_size: 50\n",
       "random_seed: 42\n",
       "task_type: logic7"
      ]
     },
     "execution_count": 46,
     "metadata": {},
     "output_type": "execute_result"
    }
   ],
   "source": [
    "hp = gatt.hparams.get_hparams({'block_type':block_type, 'task_type':task_type})\n",
    "hp"
   ]
  },
  {
   "cell_type": "markdown",
   "metadata": {
    "colab_type": "text",
    "id": "0eHoQUuCSR49"
   },
   "source": [
    "## Instantiate model"
   ]
  },
  {
   "cell_type": "code",
   "execution_count": 47,
   "metadata": {
    "ExecuteTime": {
     "end_time": "2020-11-19T19:58:23.774392Z",
     "start_time": "2020-11-19T19:58:22.445118Z"
    },
    "colab": {},
    "colab_type": "code",
    "id": "xFD0Z2psUslb"
   },
   "outputs": [
    {
     "name": "stdout",
     "output_type": "stream",
     "text": [
      "GNN : gcn\n",
      "\n",
      "| Variable                                  | Spec        | Trainable   | Device   |\n",
      "|-------------------------------------------+-------------+-------------+----------|\n",
      "| gcn/ReadoutGAP/linear/w                   | f32[20,100] | True        | CPU      |\n",
      "| gcn/ReadoutGAP/linear/w                   | f32[50,100] | True        | CPU      |\n",
      "| gcn/ReadoutGAP/linear/b                   | f32[100]    | True        | CPU      |\n",
      "| gcn/ReadoutGAP/linear/b                   | f32[100]    | True        | CPU      |\n",
      "| gcn/gcn_1/layer_norm/offset               | f32[50]     | True        | CPU      |\n",
      "| gcn/gcn_1/layer_norm/scale                | f32[50]     | True        | CPU      |\n",
      "| gcn/gcn_1/mlp/linear_0/w                  | f32[120,50] | True        | CPU      |\n",
      "| gcn/gcn_1/mlp/linear_0/b                  | f32[50]     | True        | CPU      |\n",
      "| gcn/gcn_1/mlp/linear_1/w                  | f32[50,50]  | True        | CPU      |\n",
      "| gcn/gcn_1/mlp/linear_1/b                  | f32[50]     | True        | CPU      |\n",
      "| gcn/gcn_2/layer_norm/offset               | f32[50]     | True        | CPU      |\n",
      "| gcn/gcn_2/layer_norm/scale                | f32[50]     | True        | CPU      |\n",
      "| gcn/gcn_2/mlp/linear_0/w                  | f32[120,50] | True        | CPU      |\n",
      "| gcn/gcn_2/mlp/linear_0/b                  | f32[50]     | True        | CPU      |\n",
      "| gcn/gcn_2/mlp/linear_1/w                  | f32[50,50]  | True        | CPU      |\n",
      "| gcn/gcn_2/mlp/linear_1/b                  | f32[50]     | True        | CPU      |\n",
      "| gcn/gcn_3/layer_norm/offset               | f32[50]     | True        | CPU      |\n",
      "| gcn/gcn_3/layer_norm/scale                | f32[50]     | True        | CPU      |\n",
      "| gcn/gcn_3/mlp/linear_0/w                  | f32[120,50] | True        | CPU      |\n",
      "| gcn/gcn_3/mlp/linear_0/b                  | f32[50]     | True        | CPU      |\n",
      "| gcn/gcn_3/mlp/linear_1/w                  | f32[50,50]  | True        | CPU      |\n",
      "| gcn/gcn_3/mlp/linear_1/b                  | f32[50]     | True        | CPU      |\n",
      "| gcn/graph_independent/edge_model/linear/w | f32[5,20]   | True        | CPU      |\n",
      "| gcn/graph_independent/edge_model/linear/b | f32[20]     | True        | CPU      |\n",
      "| gcn/graph_independent/node_model/linear/w | f32[14,50]  | True        | CPU      |\n",
      "| gcn/graph_independent/node_model/linear/b | f32[50]     | True        | CPU      |\n",
      "| gcn/linear/w                              | f32[100,1]  | True        | CPU      |\n",
      "\n",
      "Params: 34270 trainable out of 34270\n"
     ]
    }
   ],
   "source": [
    "model = experiments.GNN(node_size = hp.node_size,\n",
    "               edge_size = hp.edge_size,\n",
    "               global_size = hp.global_size,\n",
    "               y_output_size = task.n_outputs,\n",
    "               block_type = gnn_models.BlockType(hp.block_type),\n",
    "               activation = task_act,\n",
    "               target_type = task.target_type,\n",
    "               n_layers = hp.n_layers)\n",
    "model(exp.x_train)\n",
    "gnn_models.print_model(model)"
   ]
  },
  {
   "cell_type": "markdown",
   "metadata": {
    "colab_type": "text",
    "id": "OyH67z9gaCZ_"
   },
   "source": [
    "# Train model on task\n",
    "\n"
   ]
  },
  {
   "cell_type": "markdown",
   "metadata": {
    "colab_type": "text",
    "id": "baX60p7WWXL-"
   },
   "source": [
    "## Training loop"
   ]
  },
  {
   "cell_type": "code",
   "execution_count": 58,
   "metadata": {
    "ExecuteTime": {
     "end_time": "2020-11-19T20:06:19.165556Z",
     "start_time": "2020-11-19T20:01:50.383747Z"
    },
    "colab": {},
    "colab_type": "code",
    "id": "BOxaREIYt1yp"
   },
   "outputs": [
    {
     "name": "stderr",
     "output_type": "stream",
     "text": [
      "100%|██████████| 300/300 [04:28<00:00,  1.12it/s, train=0.0344, test=0.099] \n"
     ]
    }
   ],
   "source": [
    "optimizer = snt.optimizers.Adam(hp.learning_rate)\n",
    "\n",
    "\n",
    "\n",
    "opt_one_epoch = gatt.training.make_tf_opt_epoch_fn(exp.x_train, exp.y_train, hp.batch_size, model,\n",
    "                                      optimizer, task_loss)\n",
    "\n",
    "pbar = tqdm(range(hp.epochs))\n",
    "losses = collections.defaultdict(list)\n",
    "start_time = time.time()\n",
    "for _ in pbar:\n",
    "    train_loss = opt_one_epoch(exp.x_train, exp.y_train).numpy()\n",
    "    losses['train'].append(train_loss)\n",
    "    losses['test'].append(task_loss(exp.y_test, model(exp.x_test)).numpy())\n",
    "    pbar.set_postfix({key: values[-1] for key, values in losses.items()})\n",
    "\n",
    "losses = {key: np.array(values) for key, values in losses.items()}"
   ]
  },
  {
   "cell_type": "markdown",
   "metadata": {
    "colab_type": "text",
    "id": "AhopNuNnU4ZP"
   },
   "source": [
    "## Plot losses"
   ]
  },
  {
   "cell_type": "code",
   "execution_count": 59,
   "metadata": {
    "ExecuteTime": {
     "end_time": "2020-11-19T20:06:21.401827Z",
     "start_time": "2020-11-19T20:06:21.123503Z"
    },
    "colab": {},
    "colab_type": "code",
    "id": "x-l_IsAKOj__",
    "scrolled": true
   },
   "outputs": [
    {
     "data": {
      "image/png": "[encoded data removed]",
      "text/plain": [
       "<Figure size 432x288 with 1 Axes>"
      ]
     },
     "metadata": {
      "needs_background": "light"
     },
     "output_type": "display_data"
    }
   ],
   "source": [
    "for key, values in losses.items():\n",
    "  plt.plot(values, label=key)\n",
    "plt.ylabel('loss')\n",
    "plt.xlabel('epochs')\n",
    "plt.legend()\n",
    "plt.show()"
   ]
  },
  {
   "cell_type": "markdown",
   "metadata": {
    "colab_type": "text",
    "id": "cE8ivqFFmlBk"
   },
   "source": [
    "# Evaluate predictions and attributions"
   ]
  },
  {
   "cell_type": "code",
   "execution_count": 61,
   "metadata": {
    "ExecuteTime": {
     "end_time": "2020-11-19T20:09:10.663044Z",
     "start_time": "2020-11-19T20:06:30.124486Z"
    },
    "colab": {},
    "colab_type": "code",
    "id": "Ytyo5Om_4evs"
   },
   "outputs": [
    {
     "data": {
      "text/html": [
       "<div>\n",
       "<style scoped>\n",
       "    .dataframe tbody tr th:only-of-type {\n",
       "        vertical-align: middle;\n",
       "    }\n",
       "\n",
       "    .dataframe tbody tr th {\n",
       "        vertical-align: top;\n",
       "    }\n",
       "\n",
       "    .dataframe thead th {\n",
       "        text-align: right;\n",
       "    }\n",
       "</style>\n",
       "<table border=\"1\" class=\"dataframe\">\n",
       "  <thead>\n",
       "    <tr style=\"text-align: right;\">\n",
       "      <th></th>\n",
       "      <th>ATT AUROC</th>\n",
       "      <th>ATT F1</th>\n",
       "      <th>ATT ACC</th>\n",
       "      <th>AUROC</th>\n",
       "      <th>F1</th>\n",
       "      <th>ACC</th>\n",
       "      <th>Task</th>\n",
       "      <th>Technique</th>\n",
       "      <th>Model</th>\n",
       "    </tr>\n",
       "  </thead>\n",
       "  <tbody>\n",
       "    <tr>\n",
       "      <th>0</th>\n",
       "      <td>0.431363</td>\n",
       "      <td>0.031471</td>\n",
       "      <td>0.019034</td>\n",
       "      <td>0.985848</td>\n",
       "      <td>0.854369</td>\n",
       "      <td>0.969136</td>\n",
       "      <td>(flouride &amp; carbonyl)</td>\n",
       "      <td>Random</td>\n",
       "      <td>gcn</td>\n",
       "    </tr>\n",
       "    <tr>\n",
       "      <th>1</th>\n",
       "      <td>0.596334</td>\n",
       "      <td>0.034140</td>\n",
       "      <td>0.068074</td>\n",
       "      <td>0.985848</td>\n",
       "      <td>0.854369</td>\n",
       "      <td>0.969136</td>\n",
       "      <td>(flouride &amp; carbonyl)</td>\n",
       "      <td>GradInput</td>\n",
       "      <td>gcn</td>\n",
       "    </tr>\n",
       "    <tr>\n",
       "      <th>2</th>\n",
       "      <td>0.691677</td>\n",
       "      <td>0.038024</td>\n",
       "      <td>0.119833</td>\n",
       "      <td>0.985848</td>\n",
       "      <td>0.854369</td>\n",
       "      <td>0.969136</td>\n",
       "      <td>(flouride &amp; carbonyl)</td>\n",
       "      <td>SmoothGrad(GradInput)</td>\n",
       "      <td>gcn</td>\n",
       "    </tr>\n",
       "    <tr>\n",
       "      <th>3</th>\n",
       "      <td>0.602040</td>\n",
       "      <td>0.034197</td>\n",
       "      <td>0.067365</td>\n",
       "      <td>0.985848</td>\n",
       "      <td>0.854369</td>\n",
       "      <td>0.969136</td>\n",
       "      <td>(flouride &amp; carbonyl)</td>\n",
       "      <td>GradCAM-last</td>\n",
       "      <td>gcn</td>\n",
       "    </tr>\n",
       "    <tr>\n",
       "      <th>4</th>\n",
       "      <td>0.605443</td>\n",
       "      <td>0.035312</td>\n",
       "      <td>0.118345</td>\n",
       "      <td>0.985848</td>\n",
       "      <td>0.854369</td>\n",
       "      <td>0.969136</td>\n",
       "      <td>(flouride &amp; carbonyl)</td>\n",
       "      <td>GradCAM-all</td>\n",
       "      <td>gcn</td>\n",
       "    </tr>\n",
       "    <tr>\n",
       "      <th>5</th>\n",
       "      <td>0.791446</td>\n",
       "      <td>0.046374</td>\n",
       "      <td>0.953862</td>\n",
       "      <td>0.985848</td>\n",
       "      <td>0.854369</td>\n",
       "      <td>0.969136</td>\n",
       "      <td>(flouride &amp; carbonyl)</td>\n",
       "      <td>IG</td>\n",
       "      <td>gcn</td>\n",
       "    </tr>\n",
       "    <tr>\n",
       "      <th>6</th>\n",
       "      <td>0.767966</td>\n",
       "      <td>0.055071</td>\n",
       "      <td>0.907440</td>\n",
       "      <td>0.985848</td>\n",
       "      <td>0.854369</td>\n",
       "      <td>0.969136</td>\n",
       "      <td>(flouride &amp; carbonyl)</td>\n",
       "      <td>CAM</td>\n",
       "      <td>gcn</td>\n",
       "    </tr>\n",
       "  </tbody>\n",
       "</table>\n",
       "</div>"
      ],
      "text/plain": [
       "   ATT AUROC    ATT F1   ATT ACC     AUROC        F1       ACC  \\\n",
       "0   0.431363  0.031471  0.019034  0.985848  0.854369  0.969136   \n",
       "1   0.596334  0.034140  0.068074  0.985848  0.854369  0.969136   \n",
       "2   0.691677  0.038024  0.119833  0.985848  0.854369  0.969136   \n",
       "3   0.602040  0.034197  0.067365  0.985848  0.854369  0.969136   \n",
       "4   0.605443  0.035312  0.118345  0.985848  0.854369  0.969136   \n",
       "5   0.791446  0.046374  0.953862  0.985848  0.854369  0.969136   \n",
       "6   0.767966  0.055071  0.907440  0.985848  0.854369  0.969136   \n",
       "\n",
       "                    Task              Technique Model  \n",
       "0  (flouride & carbonyl)                 Random   gcn  \n",
       "1  (flouride & carbonyl)              GradInput   gcn  \n",
       "2  (flouride & carbonyl)  SmoothGrad(GradInput)   gcn  \n",
       "3  (flouride & carbonyl)           GradCAM-last   gcn  \n",
       "4  (flouride & carbonyl)            GradCAM-all   gcn  \n",
       "5  (flouride & carbonyl)                     IG   gcn  \n",
       "6  (flouride & carbonyl)                    CAM   gcn  "
      ]
     },
     "execution_count": 61,
     "metadata": {},
     "output_type": "execute_result"
    }
   ],
   "source": [
    "results = []\n",
    "for method in tqdm(methods.values(), total=len(methods)):\n",
    "  results.append(experiments.generate_result(model, method, task, exp.x_test, exp.y_test, exp.att_test))\n",
    "pd.DataFrame(results)"
   ]
  },
  {
   "cell_type": "markdown",
   "metadata": {},
   "source": [
    "# Visualize attributions"
   ]
  },
  {
   "cell_type": "code",
   "execution_count": null,
   "metadata": {},
   "outputs": [],
   "source": []
  }
 ],
 "metadata": {
  "colab": {
   "collapsed_sections": [],
   "last_runtime": {
    "build_target": "",
    "kind": "private"
   },
   "name": "train_evaluate.ipynb",
   "provenance": [
    {
     "file_id": "/piper/depot/google3/experimental/graph_attribution/graphnets_demo.ipynb",
     "timestamp": 1589329304332
    },
    {
     "file_id": "/piper/depot/google3/experimental/graph_attribution/graphnets_demo.ipynb",
     "timestamp": 1580393977236
    },
    {
     "file_id": "1BfVceP2yhGgdtloEZNy_lR1NP7pjWhez",
     "timestamp": 1579666920169
    },
    {
     "file_id": "1QyHsdvTHd2a4SPXCGtEsd3rL7pT2S6vO",
     "timestamp": 1578435769855
    },
    {
     "file_id": "1kzXpb_wct-EnLPOAvTvRXGCGOiLK7SkP",
     "timestamp": 1578350485474
    },
    {
     "file_id": "/piper/depot/google3/learning/deepmind/tensorflow/graph_nets/tf2/demos/sort.ipynb",
     "timestamp": 1577987457433
    },
    {
     "file_id": "13QaQPnwO8Iq5YjoSraE2Gt_jz3f9e8pc",
     "timestamp": 1571434083446
    },
    {
     "file_id": "/piper/depot/google3/third_party/py/graph_nets/demos/sort.ipynb",
     "timestamp": 1570733816658
    }
   ]
  },
  "kernelspec": {
   "display_name": "py37-gpu",
   "language": "python",
   "name": "py37-gpu"
  },
  "language_info": {
   "codemirror_mode": {
    "name": "ipython",
    "version": 3
   },
   "file_extension": ".py",
   "mimetype": "text/x-python",
   "name": "python",
   "nbconvert_exporter": "python",
   "pygments_lexer": "ipython3",
   "version": "3.7.5"
  },
  "toc": {
   "base_numbering": 1,
   "nav_menu": {},
   "number_sections": true,
   "sideBar": true,
   "skip_h1_title": false,
   "title_cell": "Table of Contents",
   "title_sidebar": "Contents",
   "toc_cell": false,
   "toc_position": {},
   "toc_section_display": true,
   "toc_window_display": false
  }
 },
 "nbformat": 4,
 "nbformat_minor": 4
}
